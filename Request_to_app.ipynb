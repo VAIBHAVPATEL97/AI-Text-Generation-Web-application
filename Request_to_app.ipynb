{
 "cells": [
  {
   "cell_type": "markdown",
   "metadata": {},
   "source": [
    "                    ------- GPT-2 web application using flask+nginx+gunicorn -------- \n",
    "\n",
    "\n",
    "Pretrained GPT-2 model is used for the application. To get the output of the GPT-2 model quickly I have limited the word count to 50 words. GPT-2 model is almost update-to-date with the current news about the COVID pandemic which is interesting."
   ]
  },
  {
   "cell_type": "code",
   "execution_count": 5,
   "metadata": {},
   "outputs": [
    {
     "name": "stdout",
     "output_type": "stream",
     "text": [
      "----------- Input Phrase-------------\n",
      "\"Food insecurity is worsening for some local residents due to the rising cost of living, driven by food and housing prices, plus employment instability caused by the pandemic. \"\n",
      "---------------- GPT-2 Generted Phrase----------------\n",
      "{\"generated_text\":\"Food insecurity is worsening for some local residents due to the rising cost of living, driven by food and housing prices, plus employment instability caused by the pandemic. \\u00a0The government has also been forced to cut back on food aid to local communities.\"}\n",
      "\n"
     ]
    }
   ],
   "source": [
    "import requests\n",
    "import json\n",
    "url = \"http://0.0.0.0:8000/data\"\n",
    "data = \"Food insecurity is worsening for some local residents due to the rising cost of living, driven by food and housing prices, plus employment instability caused by the pandemic. \"\n",
    "json_data = json.dumps(data)\n",
    "headers = {'content-type': 'application/json', 'Accept-Charset': 'UTF-8'}\n",
    "r = requests.post(url, data=json_data, headers=headers)\n",
    "print(\"----------- Input Phrase-------------\")\n",
    "print(json_data)\n",
    "print(\"---------------- GPT-2 Generted Phrase----------------\")\n",
    "print(r.text)"
   ]
  },
  {
   "cell_type": "code",
   "execution_count": 2,
   "metadata": {},
   "outputs": [
    {
     "data": {
      "text/plain": [
       "'/home/uavproject/Desktop/Docker-gpt2'"
      ]
     },
     "execution_count": 2,
     "metadata": {},
     "output_type": "execute_result"
    }
   ],
   "source": [
    "pwd"
   ]
  },
  {
   "cell_type": "code",
   "execution_count": null,
   "metadata": {},
   "outputs": [],
   "source": []
  }
 ],
 "metadata": {
  "kernelspec": {
   "display_name": "Python 3",
   "language": "python",
   "name": "python3"
  },
  "language_info": {
   "codemirror_mode": {
    "name": "ipython",
    "version": 3
   },
   "file_extension": ".py",
   "mimetype": "text/x-python",
   "name": "python",
   "nbconvert_exporter": "python",
   "pygments_lexer": "ipython3",
   "version": "3.8.10"
  }
 },
 "nbformat": 4,
 "nbformat_minor": 4
}
